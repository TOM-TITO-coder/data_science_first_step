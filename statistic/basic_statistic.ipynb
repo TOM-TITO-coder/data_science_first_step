{
 "cells": [
  {
   "cell_type": "markdown",
   "id": "3ef561f4",
   "metadata": {},
   "source": [
    "* Histogram\n",
    "* Outliers\n",
    "* Box Plot\n",
    "* Summary Statistics\n",
    "* CDF\n",
    "* Effect size\n",
    "* Relationship Between Variable\n",
    "* Correlation\n",
    "* Covariance\n",
    "* Pearson Correlation\n",
    "* Spearman's Rank Correlation\n",
    "* Mean vs Median\n",
    "* Hypothesis Testing\n",
    "* Normal(Guassian) Distribution and z-score"
   ]
  },
  {
   "cell_type": "code",
   "execution_count": 1,
   "id": "f21e5ec5",
   "metadata": {},
   "outputs": [
    {
     "data": {
      "text/html": [
       "<div>\n",
       "<style scoped>\n",
       "    .dataframe tbody tr th:only-of-type {\n",
       "        vertical-align: middle;\n",
       "    }\n",
       "\n",
       "    .dataframe tbody tr th {\n",
       "        vertical-align: top;\n",
       "    }\n",
       "\n",
       "    .dataframe thead th {\n",
       "        text-align: right;\n",
       "    }\n",
       "</style>\n",
       "<table border=\"1\" class=\"dataframe\">\n",
       "  <thead>\n",
       "    <tr style=\"text-align: right;\">\n",
       "      <th></th>\n",
       "      <th>diagnosis</th>\n",
       "      <th>radius_mean</th>\n",
       "      <th>texture_mean</th>\n",
       "      <th>perimeter_mean</th>\n",
       "      <th>area_mean</th>\n",
       "      <th>smoothness_mean</th>\n",
       "      <th>compactness_mean</th>\n",
       "      <th>concavity_mean</th>\n",
       "      <th>concave points_mean</th>\n",
       "      <th>symmetry_mean</th>\n",
       "      <th>...</th>\n",
       "      <th>radius_worst</th>\n",
       "      <th>texture_worst</th>\n",
       "      <th>perimeter_worst</th>\n",
       "      <th>area_worst</th>\n",
       "      <th>smoothness_worst</th>\n",
       "      <th>compactness_worst</th>\n",
       "      <th>concavity_worst</th>\n",
       "      <th>concave points_worst</th>\n",
       "      <th>symmetry_worst</th>\n",
       "      <th>fractal_dimension_worst</th>\n",
       "    </tr>\n",
       "  </thead>\n",
       "  <tbody>\n",
       "    <tr>\n",
       "      <th>0</th>\n",
       "      <td>M</td>\n",
       "      <td>17.99</td>\n",
       "      <td>10.38</td>\n",
       "      <td>122.80</td>\n",
       "      <td>1001.0</td>\n",
       "      <td>0.11840</td>\n",
       "      <td>0.27760</td>\n",
       "      <td>0.3001</td>\n",
       "      <td>0.14710</td>\n",
       "      <td>0.2419</td>\n",
       "      <td>...</td>\n",
       "      <td>25.38</td>\n",
       "      <td>17.33</td>\n",
       "      <td>184.60</td>\n",
       "      <td>2019.0</td>\n",
       "      <td>0.1622</td>\n",
       "      <td>0.6656</td>\n",
       "      <td>0.7119</td>\n",
       "      <td>0.2654</td>\n",
       "      <td>0.4601</td>\n",
       "      <td>0.11890</td>\n",
       "    </tr>\n",
       "    <tr>\n",
       "      <th>1</th>\n",
       "      <td>M</td>\n",
       "      <td>20.57</td>\n",
       "      <td>17.77</td>\n",
       "      <td>132.90</td>\n",
       "      <td>1326.0</td>\n",
       "      <td>0.08474</td>\n",
       "      <td>0.07864</td>\n",
       "      <td>0.0869</td>\n",
       "      <td>0.07017</td>\n",
       "      <td>0.1812</td>\n",
       "      <td>...</td>\n",
       "      <td>24.99</td>\n",
       "      <td>23.41</td>\n",
       "      <td>158.80</td>\n",
       "      <td>1956.0</td>\n",
       "      <td>0.1238</td>\n",
       "      <td>0.1866</td>\n",
       "      <td>0.2416</td>\n",
       "      <td>0.1860</td>\n",
       "      <td>0.2750</td>\n",
       "      <td>0.08902</td>\n",
       "    </tr>\n",
       "    <tr>\n",
       "      <th>2</th>\n",
       "      <td>M</td>\n",
       "      <td>19.69</td>\n",
       "      <td>21.25</td>\n",
       "      <td>130.00</td>\n",
       "      <td>1203.0</td>\n",
       "      <td>0.10960</td>\n",
       "      <td>0.15990</td>\n",
       "      <td>0.1974</td>\n",
       "      <td>0.12790</td>\n",
       "      <td>0.2069</td>\n",
       "      <td>...</td>\n",
       "      <td>23.57</td>\n",
       "      <td>25.53</td>\n",
       "      <td>152.50</td>\n",
       "      <td>1709.0</td>\n",
       "      <td>0.1444</td>\n",
       "      <td>0.4245</td>\n",
       "      <td>0.4504</td>\n",
       "      <td>0.2430</td>\n",
       "      <td>0.3613</td>\n",
       "      <td>0.08758</td>\n",
       "    </tr>\n",
       "    <tr>\n",
       "      <th>3</th>\n",
       "      <td>M</td>\n",
       "      <td>11.42</td>\n",
       "      <td>20.38</td>\n",
       "      <td>77.58</td>\n",
       "      <td>386.1</td>\n",
       "      <td>0.14250</td>\n",
       "      <td>0.28390</td>\n",
       "      <td>0.2414</td>\n",
       "      <td>0.10520</td>\n",
       "      <td>0.2597</td>\n",
       "      <td>...</td>\n",
       "      <td>14.91</td>\n",
       "      <td>26.50</td>\n",
       "      <td>98.87</td>\n",
       "      <td>567.7</td>\n",
       "      <td>0.2098</td>\n",
       "      <td>0.8663</td>\n",
       "      <td>0.6869</td>\n",
       "      <td>0.2575</td>\n",
       "      <td>0.6638</td>\n",
       "      <td>0.17300</td>\n",
       "    </tr>\n",
       "    <tr>\n",
       "      <th>4</th>\n",
       "      <td>M</td>\n",
       "      <td>20.29</td>\n",
       "      <td>14.34</td>\n",
       "      <td>135.10</td>\n",
       "      <td>1297.0</td>\n",
       "      <td>0.10030</td>\n",
       "      <td>0.13280</td>\n",
       "      <td>0.1980</td>\n",
       "      <td>0.10430</td>\n",
       "      <td>0.1809</td>\n",
       "      <td>...</td>\n",
       "      <td>22.54</td>\n",
       "      <td>16.67</td>\n",
       "      <td>152.20</td>\n",
       "      <td>1575.0</td>\n",
       "      <td>0.1374</td>\n",
       "      <td>0.2050</td>\n",
       "      <td>0.4000</td>\n",
       "      <td>0.1625</td>\n",
       "      <td>0.2364</td>\n",
       "      <td>0.07678</td>\n",
       "    </tr>\n",
       "  </tbody>\n",
       "</table>\n",
       "<p>5 rows × 31 columns</p>\n",
       "</div>"
      ],
      "text/plain": [
       "  diagnosis  radius_mean  texture_mean  perimeter_mean  area_mean  \\\n",
       "0         M        17.99         10.38          122.80     1001.0   \n",
       "1         M        20.57         17.77          132.90     1326.0   \n",
       "2         M        19.69         21.25          130.00     1203.0   \n",
       "3         M        11.42         20.38           77.58      386.1   \n",
       "4         M        20.29         14.34          135.10     1297.0   \n",
       "\n",
       "   smoothness_mean  compactness_mean  concavity_mean  concave points_mean  \\\n",
       "0          0.11840           0.27760          0.3001              0.14710   \n",
       "1          0.08474           0.07864          0.0869              0.07017   \n",
       "2          0.10960           0.15990          0.1974              0.12790   \n",
       "3          0.14250           0.28390          0.2414              0.10520   \n",
       "4          0.10030           0.13280          0.1980              0.10430   \n",
       "\n",
       "   symmetry_mean  ...  radius_worst  texture_worst  perimeter_worst  \\\n",
       "0         0.2419  ...         25.38          17.33           184.60   \n",
       "1         0.1812  ...         24.99          23.41           158.80   \n",
       "2         0.2069  ...         23.57          25.53           152.50   \n",
       "3         0.2597  ...         14.91          26.50            98.87   \n",
       "4         0.1809  ...         22.54          16.67           152.20   \n",
       "\n",
       "   area_worst  smoothness_worst  compactness_worst  concavity_worst  \\\n",
       "0      2019.0            0.1622             0.6656           0.7119   \n",
       "1      1956.0            0.1238             0.1866           0.2416   \n",
       "2      1709.0            0.1444             0.4245           0.4504   \n",
       "3       567.7            0.2098             0.8663           0.6869   \n",
       "4      1575.0            0.1374             0.2050           0.4000   \n",
       "\n",
       "   concave points_worst  symmetry_worst  fractal_dimension_worst  \n",
       "0                0.2654          0.4601                  0.11890  \n",
       "1                0.1860          0.2750                  0.08902  \n",
       "2                0.2430          0.3613                  0.08758  \n",
       "3                0.2575          0.6638                  0.17300  \n",
       "4                0.1625          0.2364                  0.07678  \n",
       "\n",
       "[5 rows x 31 columns]"
      ]
     },
     "execution_count": 1,
     "metadata": {},
     "output_type": "execute_result"
    }
   ],
   "source": [
    "import pandas as pd\n",
    "\n",
    "data = pd.read_csv('data.csv')\n",
    "\n",
    "data = data.drop(['Unnamed: 32', 'id'], axis=1)\n",
    "\n",
    "data.head()"
   ]
  },
  {
   "cell_type": "code",
   "execution_count": 2,
   "id": "fef9389d",
   "metadata": {},
   "outputs": [
    {
     "data": {
      "text/plain": [
       "Index(['diagnosis', 'radius_mean', 'texture_mean', 'perimeter_mean',\n",
       "       'area_mean', 'smoothness_mean', 'compactness_mean', 'concavity_mean',\n",
       "       'concave points_mean', 'symmetry_mean', 'fractal_dimension_mean',\n",
       "       'radius_se', 'texture_se', 'perimeter_se', 'area_se', 'smoothness_se',\n",
       "       'compactness_se', 'concavity_se', 'concave points_se', 'symmetry_se',\n",
       "       'fractal_dimension_se', 'radius_worst', 'texture_worst',\n",
       "       'perimeter_worst', 'area_worst', 'smoothness_worst',\n",
       "       'compactness_worst', 'concavity_worst', 'concave points_worst',\n",
       "       'symmetry_worst', 'fractal_dimension_worst'],\n",
       "      dtype='object')"
      ]
     },
     "execution_count": 2,
     "metadata": {},
     "output_type": "execute_result"
    }
   ],
   "source": [
    "data.head()\n",
    "data.shape\n",
    "data.columns"
   ]
  },
  {
   "cell_type": "markdown",
   "id": "c23c9394",
   "metadata": {},
   "source": [
    "## Histogram\n",
    "* How many times each value appears in dataset. This description is called the distribution of variable.\n",
    "* Most common way to represent distribution of variable is histogram that is graph which shows frequency of each value.\n",
    "* Frequency = number of times each value appears.\n",
    "* EX: [1, 1, 1, 1, 2, 2, 2]. "
   ]
  },
  {
   "cell_type": "code",
   "execution_count": 3,
   "id": "0c3e12df",
   "metadata": {},
   "outputs": [
    {
     "data": {
      "image/png": "[encoded data removed]",
      "text/plain": [
       "<Figure size 640x480 with 1 Axes>"
      ]
     },
     "metadata": {},
     "output_type": "display_data"
    },
    {
     "name": "stdout",
     "output_type": "stream",
     "text": [
      "Most frequent malignant radius mean: 20.101999999999997\n"
     ]
    }
   ],
   "source": [
    "import matplotlib.pyplot as plt\n",
    "\n",
    "m = plt.hist(data[data['diagnosis'] == 'M'].radius_mean, bins=30, fc = (1, 0, 0, 0.5), label='Malignant')\n",
    "b = plt.hist(data[data['diagnosis'] == 'B'].radius_mean, bins=30, fc = (0, 1, 0, 0.5), label='Benign')\n",
    "\n",
    "plt.legend()\n",
    "plt.xlabel('Radius Mean Values')\n",
    "plt.ylabel('Frequency')\n",
    "plt.title('Histogram of Radius mean for Benign and Malignant Tumors')\n",
    "plt.show()\n",
    "frequent_malignant_radius_mean = m[0].max()\n",
    "index_frequent_malignant_radius_mean = list(m[0]).index(frequent_malignant_radius_mean)\n",
    "most_frequent_malignant_radius_mean = m[1][index_frequent_malignant_radius_mean]\n",
    "print(f\"Most frequent malignant radius mean: {most_frequent_malignant_radius_mean}\")"
   ]
  },
  {
   "cell_type": "markdown",
   "id": "3405bdb7",
   "metadata": {},
   "source": [
    "* Lets look at other conclusions\n",
    "* From this graph you can see that raduis mean of malignant tumors are bigger than raduis mean of benign tumors mostly.\n",
    "* The benign distribution (green in graph) is approcimately bell-shape that is shape of normal distribution (guassian distribution)\n",
    "* Also you can find reult like that most frequent malignant raduis mean is "
   ]
  },
  {
   "cell_type": "markdown",
   "id": "c2c774a3",
   "metadata": {},
   "source": [
    "## Outliers\n",
    "\n",
    "* While looking histogram as you can see there are rare values in benign distribution (green in graph)\n",
    "* There values can be errors or rare events.\n",
    "* There errors and rare events can be called outliers.\n",
    "* Calcuulating outliers:\n",
    "    * first we need to calculate first quartile (Q1)(25%)\n",
    "    * then find IQR(Inter Quartile Range) = Q3 - Q1\n",
    "    * finally compute Q1 - 1.5IQR and Q3 + 1.5IQR\n",
    "    * Anything outside this range is an outlier\n",
    "    * lets write the code for benign tumor distribution for feature radius mean"
   ]
  },
  {
   "cell_type": "code",
   "execution_count": 8,
   "id": "6ff92502",
   "metadata": {},
   "outputs": [
    {
     "name": "stdout",
     "output_type": "stream",
     "text": [
      "Anything outside this range is an outlier: ( 7.645000000000001 , 16.805 )\n",
      "Outliers:  [ 6.981 16.84  17.85 ]\n"
     ]
    },
    {
     "data": {
      "text/plain": [
       "count    357.000000\n",
       "mean      12.146524\n",
       "std        1.780512\n",
       "min        6.981000\n",
       "25%       11.080000\n",
       "50%       12.200000\n",
       "75%       13.370000\n",
       "max       17.850000\n",
       "Name: radius_mean, dtype: float64"
      ]
     },
     "execution_count": 8,
     "metadata": {},
     "output_type": "execute_result"
    }
   ],
   "source": [
    "data_benign = data[data['diagnosis'] == 'B']\n",
    "data_malignant = data[data['diagnosis'] == 'M']\n",
    "desc = data_benign.radius_mean.describe()\n",
    "\n",
    "Q1 = desc['25%']\n",
    "Q2 = desc['50%']\n",
    "Q3 = desc['75%']\n",
    "IQR = Q3 - Q1\n",
    "\n",
    "lower_bound = Q1 - 1.5 * IQR\n",
    "upper_bound = Q3 + 1.5 * IQR\n",
    "\n",
    "print(\"Anything outside this range is an outlier: (\", lower_bound, \",\", upper_bound, \")\")\n",
    "data_benign[data_benign.radius_mean < lower_bound].radius_mean\n",
    "print(\"Outliers: \", data_benign[(data_benign.radius_mean < lower_bound) | (data_benign.radius_mean > upper_bound)].radius_mean.values)\n",
    "desc"
   ]
  },
  {
   "cell_type": "markdown",
   "id": "823c0be3",
   "metadata": {},
   "source": [
    "## Box Plot\n",
    "* You can see outliers also from box plots\n",
    "* We found 3 outlier in benign radius mean and in box plot there are 3 outlier."
   ]
  },
  {
   "cell_type": "code",
   "execution_count": 11,
   "id": "d7fa91d5",
   "metadata": {},
   "outputs": [
    {
     "data": {
      "image/png": "[encoded data removed]",
      "text/plain": [
       "<Figure size 1500x1000 with 1 Axes>"
      ]
     },
     "metadata": {},
     "output_type": "display_data"
    }
   ],
   "source": [
    "import seaborn as sns\n",
    "\n",
    "melted_data = data.melt(\n",
    "    id_vars=[\"diagnosis\"],\n",
    "    value_vars= [\"radius_mean\", \"texture_mean\"]\n",
    ")\n",
    "plt.figure(figsize=(15, 10))\n",
    "sns.boxplot(x = \"variable\", y = \"value\", hue=\"diagnosis\", data = melted_data)\n",
    "plt.show()"
   ]
  },
  {
   "cell_type": "markdown",
   "id": "742a1cc0",
   "metadata": {},
   "source": [
    "`Summary Statistics`\n",
    "* Mean \n",
    "* Variance: spread of distribution\n",
    "* Stadard deviation square root of variance\n",
    "* Lets look at summary statistics of benign tumor radiance mean"
   ]
  },
  {
   "cell_type": "code",
   "execution_count": 12,
   "id": "cca800ac",
   "metadata": {},
   "outputs": [
    {
     "name": "stdout",
     "output_type": "stream",
     "text": [
      "Mean:  12.146523809523808\n",
      "Variance:  3.170221722043872\n",
      "Standard Deviation:  1.7805116461410389\n",
      "Describe method:  count    357.000000\n",
      "mean      12.146524\n",
      "std        1.780512\n",
      "min        6.981000\n",
      "25%       11.080000\n",
      "50%       12.200000\n",
      "75%       13.370000\n",
      "max       17.850000\n",
      "Name: radius_mean, dtype: float64\n"
     ]
    }
   ],
   "source": [
    "print(\"Mean: \", data_benign.radius_mean.mean())\n",
    "print(\"Variance: \", data_benign.radius_mean.var())\n",
    "print(\"Standard Deviation: \", data_benign.radius_mean.std())\n",
    "print(\"Describe method: \", data_benign.radius_mean.describe())"
   ]
  },
  {
   "cell_type": "markdown",
   "id": "c2a271e1",
   "metadata": {},
   "source": [
    "## CDF \n",
    "* Cumulative distribution function is the probability that the variable takes a value less than or equal to x. \n",
    "`P(X <= x)` \n",
    "* Lets explain in cdf graph of benign radius mean\n",
    "* in graph, what is `P(12<X)`? The answer is 0.5. The probability that the variable takes a values less than or equal to 12(radius mean) is 0.5.\n",
    "* You can plot cdd with two different method."
   ]
  },
  {
   "cell_type": "code",
   "execution_count": 19,
   "id": "0725c2b1",
   "metadata": {},
   "outputs": [
    {
     "data": {
      "image/png": "[encoded data removed]",
      "text/plain": [
       "<Figure size 640x480 with 1 Axes>"
      ]
     },
     "metadata": {},
     "output_type": "display_data"
    }
   ],
   "source": [
    "import numpy as np\n",
    "import matplotlib.pyplot as plt\n",
    "\n",
    "# Plotting CDF of benign tumor radius mean\n",
    "plt.hist(data_benign.radius_mean, bins=30, fc=(0, 1, 0, 0.5), label='Benign', density=True, cumulative=True)\n",
    "\n",
    "# Sorting the data to plot the CDF\n",
    "sorted_data = np.sort(data_benign.radius_mean)\n",
    "y = np.arange(len(sorted_data)) / float(len(sorted_data) - 1)\n",
    "\n",
    "# Plotting the CDF as a line\n",
    "plt.plot(sorted_data, y, color='red')\n",
    "\n",
    "# Adding title and showing the plot\n",
    "plt.title('CDF of Benign Tumor Radius Mean')\n",
    "plt.show()\n"
   ]
  },
  {
   "cell_type": "markdown",
   "id": "96425f98",
   "metadata": {},
   "source": []
  },
  {
   "cell_type": "markdown",
   "id": "4b50031c",
   "metadata": {},
   "source": [
    "## Effect size\n",
    "* "
   ]
  }
 ],
 "metadata": {
  "kernelspec": {
   "display_name": "myenv",
   "language": "python",
   "name": "python3"
  },
  "language_info": {
   "codemirror_mode": {
    "name": "ipython",
    "version": 3
   },
   "file_extension": ".py",
   "mimetype": "text/x-python",
   "name": "python",
   "nbconvert_exporter": "python",
   "pygments_lexer": "ipython3",
   "version": "3.12.4"
  }
 },
 "nbformat": 4,
 "nbformat_minor": 5
}
